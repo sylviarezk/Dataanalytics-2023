{
  "nbformat": 4,
  "nbformat_minor": 0,
  "metadata": {
    "colab": {
      "provenance": [],
      "authorship_tag": "ABX9TyOx4iKzIxRKdOGkTqLqqVCj",
      "include_colab_link": true
    },
    "kernelspec": {
      "name": "python3",
      "display_name": "Python 3"
    },
    "language_info": {
      "name": "python"
    }
  },
  "cells": [
    {
      "cell_type": "markdown",
      "metadata": {
        "id": "view-in-github",
        "colab_type": "text"
      },
      "source": [
        "<a href=\"https://colab.research.google.com/github/sylviarezk/Dataanalytics-2023/blob/main/capstone_project_final.ipynb\" target=\"_parent\"><img src=\"https://colab.research.google.com/assets/colab-badge.svg\" alt=\"Open In Colab\"/></a>"
      ]
    },
    {
      "cell_type": "markdown",
      "source": [
        "# 1- import pandas,scikit-learn and read csv file\n",
        "\n",
        "\n",
        "\n"
      ],
      "metadata": {
        "id": "mGo7tVDaDAxH"
      }
    },
    {
      "cell_type": "code",
      "execution_count": 1,
      "metadata": {
        "id": "L_T5ly64H9tF"
      },
      "outputs": [],
      "source": [
        "import pandas as pd"
      ]
    },
    {
      "cell_type": "code",
      "source": [
        "from sklearn.linear_model import LinearRegression"
      ],
      "metadata": {
        "id": "dGH0CMQTi4yL"
      },
      "execution_count": 2,
      "outputs": []
    },
    {
      "cell_type": "code",
      "source": [
        "import matplotlib.pyplot as plt"
      ],
      "metadata": {
        "id": "XrFrZZetNc0A"
      },
      "execution_count": 17,
      "outputs": []
    },
    {
      "cell_type": "code",
      "source": [
        "df = pd.read_csv('https://raw.githubusercontent.com/sylviarezk/Dataanalytics-2023/main/New_York_City_Leading_Causes_of_Death.csv')"
      ],
      "metadata": {
        "id": "Wic-xX_UIFZD"
      },
      "execution_count": 3,
      "outputs": []
    },
    {
      "cell_type": "markdown",
      "source": [
        "# 2- explore the data"
      ],
      "metadata": {
        "id": "tTNDukIeoc6O"
      }
    },
    {
      "cell_type": "code",
      "source": [
        "df.head()"
      ],
      "metadata": {
        "colab": {
          "base_uri": "https://localhost:8080/",
          "height": 206
        },
        "id": "uc2gz4PcIQjB",
        "outputId": "9a587298-38bb-4fc2-a5fb-6963ba23df45"
      },
      "execution_count": null,
      "outputs": [
        {
          "output_type": "execute_result",
          "data": {
            "text/plain": [
              "   Year                                      Leading Cause Sex  \\\n",
              "0  2011       Chronic Lower Respiratory Diseases (J40-J47)   M   \n",
              "1  2008              Malignant Neoplasms (Cancer: C00-C97)   M   \n",
              "2  2010     Chronic Liver Disease and Cirrhosis (K70, K73)   M   \n",
              "3  2014              Malignant Neoplasms (Cancer: C00-C97)   M   \n",
              "4  2014  Certain Conditions originating in the Perinata...   M   \n",
              "\n",
              "       Race Ethnicity Deaths Death Rate Age Adjusted Death Rate  \n",
              "0  White Non-Hispanic    444       33.3                    27.8  \n",
              "1  White Non-Hispanic   3361      250.4                   214.3  \n",
              "2            Hispanic    150       13.1                    17.6  \n",
              "3            Hispanic   1146         96                   143.5  \n",
              "4  Not Stated/Unknown     25          .                       .  "
            ],
            "text/html": [
              "\n",
              "\n",
              "  <div id=\"df-9d275e38-207b-497b-b841-3049fedb467d\">\n",
              "    <div class=\"colab-df-container\">\n",
              "      <div>\n",
              "<style scoped>\n",
              "    .dataframe tbody tr th:only-of-type {\n",
              "        vertical-align: middle;\n",
              "    }\n",
              "\n",
              "    .dataframe tbody tr th {\n",
              "        vertical-align: top;\n",
              "    }\n",
              "\n",
              "    .dataframe thead th {\n",
              "        text-align: right;\n",
              "    }\n",
              "</style>\n",
              "<table border=\"1\" class=\"dataframe\">\n",
              "  <thead>\n",
              "    <tr style=\"text-align: right;\">\n",
              "      <th></th>\n",
              "      <th>Year</th>\n",
              "      <th>Leading Cause</th>\n",
              "      <th>Sex</th>\n",
              "      <th>Race Ethnicity</th>\n",
              "      <th>Deaths</th>\n",
              "      <th>Death Rate</th>\n",
              "      <th>Age Adjusted Death Rate</th>\n",
              "    </tr>\n",
              "  </thead>\n",
              "  <tbody>\n",
              "    <tr>\n",
              "      <th>0</th>\n",
              "      <td>2011</td>\n",
              "      <td>Chronic Lower Respiratory Diseases (J40-J47)</td>\n",
              "      <td>M</td>\n",
              "      <td>White Non-Hispanic</td>\n",
              "      <td>444</td>\n",
              "      <td>33.3</td>\n",
              "      <td>27.8</td>\n",
              "    </tr>\n",
              "    <tr>\n",
              "      <th>1</th>\n",
              "      <td>2008</td>\n",
              "      <td>Malignant Neoplasms (Cancer: C00-C97)</td>\n",
              "      <td>M</td>\n",
              "      <td>White Non-Hispanic</td>\n",
              "      <td>3361</td>\n",
              "      <td>250.4</td>\n",
              "      <td>214.3</td>\n",
              "    </tr>\n",
              "    <tr>\n",
              "      <th>2</th>\n",
              "      <td>2010</td>\n",
              "      <td>Chronic Liver Disease and Cirrhosis (K70, K73)</td>\n",
              "      <td>M</td>\n",
              "      <td>Hispanic</td>\n",
              "      <td>150</td>\n",
              "      <td>13.1</td>\n",
              "      <td>17.6</td>\n",
              "    </tr>\n",
              "    <tr>\n",
              "      <th>3</th>\n",
              "      <td>2014</td>\n",
              "      <td>Malignant Neoplasms (Cancer: C00-C97)</td>\n",
              "      <td>M</td>\n",
              "      <td>Hispanic</td>\n",
              "      <td>1146</td>\n",
              "      <td>96</td>\n",
              "      <td>143.5</td>\n",
              "    </tr>\n",
              "    <tr>\n",
              "      <th>4</th>\n",
              "      <td>2014</td>\n",
              "      <td>Certain Conditions originating in the Perinata...</td>\n",
              "      <td>M</td>\n",
              "      <td>Not Stated/Unknown</td>\n",
              "      <td>25</td>\n",
              "      <td>.</td>\n",
              "      <td>.</td>\n",
              "    </tr>\n",
              "  </tbody>\n",
              "</table>\n",
              "</div>\n",
              "      <button class=\"colab-df-convert\" onclick=\"convertToInteractive('df-9d275e38-207b-497b-b841-3049fedb467d')\"\n",
              "              title=\"Convert this dataframe to an interactive table.\"\n",
              "              style=\"display:none;\">\n",
              "\n",
              "  <svg xmlns=\"http://www.w3.org/2000/svg\" height=\"24px\"viewBox=\"0 0 24 24\"\n",
              "       width=\"24px\">\n",
              "    <path d=\"M0 0h24v24H0V0z\" fill=\"none\"/>\n",
              "    <path d=\"M18.56 5.44l.94 2.06.94-2.06 2.06-.94-2.06-.94-.94-2.06-.94 2.06-2.06.94zm-11 1L8.5 8.5l.94-2.06 2.06-.94-2.06-.94L8.5 2.5l-.94 2.06-2.06.94zm10 10l.94 2.06.94-2.06 2.06-.94-2.06-.94-.94-2.06-.94 2.06-2.06.94z\"/><path d=\"M17.41 7.96l-1.37-1.37c-.4-.4-.92-.59-1.43-.59-.52 0-1.04.2-1.43.59L10.3 9.45l-7.72 7.72c-.78.78-.78 2.05 0 2.83L4 21.41c.39.39.9.59 1.41.59.51 0 1.02-.2 1.41-.59l7.78-7.78 2.81-2.81c.8-.78.8-2.07 0-2.86zM5.41 20L4 18.59l7.72-7.72 1.47 1.35L5.41 20z\"/>\n",
              "  </svg>\n",
              "      </button>\n",
              "\n",
              "\n",
              "\n",
              "    <div id=\"df-fd185317-f2aa-4d43-b3c5-1dd0f8151cde\">\n",
              "      <button class=\"colab-df-quickchart\" onclick=\"quickchart('df-fd185317-f2aa-4d43-b3c5-1dd0f8151cde')\"\n",
              "              title=\"Suggest charts.\"\n",
              "              style=\"display:none;\">\n",
              "\n",
              "<svg xmlns=\"http://www.w3.org/2000/svg\" height=\"24px\"viewBox=\"0 0 24 24\"\n",
              "     width=\"24px\">\n",
              "    <g>\n",
              "        <path d=\"M19 3H5c-1.1 0-2 .9-2 2v14c0 1.1.9 2 2 2h14c1.1 0 2-.9 2-2V5c0-1.1-.9-2-2-2zM9 17H7v-7h2v7zm4 0h-2V7h2v10zm4 0h-2v-4h2v4z\"/>\n",
              "    </g>\n",
              "</svg>\n",
              "      </button>\n",
              "    </div>\n",
              "\n",
              "<style>\n",
              "  .colab-df-quickchart {\n",
              "    background-color: #E8F0FE;\n",
              "    border: none;\n",
              "    border-radius: 50%;\n",
              "    cursor: pointer;\n",
              "    display: none;\n",
              "    fill: #1967D2;\n",
              "    height: 32px;\n",
              "    padding: 0 0 0 0;\n",
              "    width: 32px;\n",
              "  }\n",
              "\n",
              "  .colab-df-quickchart:hover {\n",
              "    background-color: #E2EBFA;\n",
              "    box-shadow: 0px 1px 2px rgba(60, 64, 67, 0.3), 0px 1px 3px 1px rgba(60, 64, 67, 0.15);\n",
              "    fill: #174EA6;\n",
              "  }\n",
              "\n",
              "  [theme=dark] .colab-df-quickchart {\n",
              "    background-color: #3B4455;\n",
              "    fill: #D2E3FC;\n",
              "  }\n",
              "\n",
              "  [theme=dark] .colab-df-quickchart:hover {\n",
              "    background-color: #434B5C;\n",
              "    box-shadow: 0px 1px 3px 1px rgba(0, 0, 0, 0.15);\n",
              "    filter: drop-shadow(0px 1px 2px rgba(0, 0, 0, 0.3));\n",
              "    fill: #FFFFFF;\n",
              "  }\n",
              "</style>\n",
              "\n",
              "    <script>\n",
              "      async function quickchart(key) {\n",
              "        const containerElement = document.querySelector('#' + key);\n",
              "        const charts = await google.colab.kernel.invokeFunction(\n",
              "            'suggestCharts', [key], {});\n",
              "      }\n",
              "    </script>\n",
              "\n",
              "      <script>\n",
              "\n",
              "function displayQuickchartButton(domScope) {\n",
              "  let quickchartButtonEl =\n",
              "    domScope.querySelector('#df-fd185317-f2aa-4d43-b3c5-1dd0f8151cde button.colab-df-quickchart');\n",
              "  quickchartButtonEl.style.display =\n",
              "    google.colab.kernel.accessAllowed ? 'block' : 'none';\n",
              "}\n",
              "\n",
              "        displayQuickchartButton(document);\n",
              "      </script>\n",
              "      <style>\n",
              "    .colab-df-container {\n",
              "      display:flex;\n",
              "      flex-wrap:wrap;\n",
              "      gap: 12px;\n",
              "    }\n",
              "\n",
              "    .colab-df-convert {\n",
              "      background-color: #E8F0FE;\n",
              "      border: none;\n",
              "      border-radius: 50%;\n",
              "      cursor: pointer;\n",
              "      display: none;\n",
              "      fill: #1967D2;\n",
              "      height: 32px;\n",
              "      padding: 0 0 0 0;\n",
              "      width: 32px;\n",
              "    }\n",
              "\n",
              "    .colab-df-convert:hover {\n",
              "      background-color: #E2EBFA;\n",
              "      box-shadow: 0px 1px 2px rgba(60, 64, 67, 0.3), 0px 1px 3px 1px rgba(60, 64, 67, 0.15);\n",
              "      fill: #174EA6;\n",
              "    }\n",
              "\n",
              "    [theme=dark] .colab-df-convert {\n",
              "      background-color: #3B4455;\n",
              "      fill: #D2E3FC;\n",
              "    }\n",
              "\n",
              "    [theme=dark] .colab-df-convert:hover {\n",
              "      background-color: #434B5C;\n",
              "      box-shadow: 0px 1px 3px 1px rgba(0, 0, 0, 0.15);\n",
              "      filter: drop-shadow(0px 1px 2px rgba(0, 0, 0, 0.3));\n",
              "      fill: #FFFFFF;\n",
              "    }\n",
              "  </style>\n",
              "\n",
              "      <script>\n",
              "        const buttonEl =\n",
              "          document.querySelector('#df-9d275e38-207b-497b-b841-3049fedb467d button.colab-df-convert');\n",
              "        buttonEl.style.display =\n",
              "          google.colab.kernel.accessAllowed ? 'block' : 'none';\n",
              "\n",
              "        async function convertToInteractive(key) {\n",
              "          const element = document.querySelector('#df-9d275e38-207b-497b-b841-3049fedb467d');\n",
              "          const dataTable =\n",
              "            await google.colab.kernel.invokeFunction('convertToInteractive',\n",
              "                                                     [key], {});\n",
              "          if (!dataTable) return;\n",
              "\n",
              "          const docLinkHtml = 'Like what you see? Visit the ' +\n",
              "            '<a target=\"_blank\" href=https://colab.research.google.com/notebooks/data_table.ipynb>data table notebook</a>'\n",
              "            + ' to learn more about interactive tables.';\n",
              "          element.innerHTML = '';\n",
              "          dataTable['output_type'] = 'display_data';\n",
              "          await google.colab.output.renderOutput(dataTable, element);\n",
              "          const docLink = document.createElement('div');\n",
              "          docLink.innerHTML = docLinkHtml;\n",
              "          element.appendChild(docLink);\n",
              "        }\n",
              "      </script>\n",
              "    </div>\n",
              "  </div>\n"
            ]
          },
          "metadata": {},
          "execution_count": 139
        }
      ]
    },
    {
      "cell_type": "code",
      "source": [
        "df.shape"
      ],
      "metadata": {
        "colab": {
          "base_uri": "https://localhost:8080/"
        },
        "id": "Yb3_cRQOIUZb",
        "outputId": "83246043-2594-48d2-92a4-c3805335f41d"
      },
      "execution_count": null,
      "outputs": [
        {
          "output_type": "execute_result",
          "data": {
            "text/plain": [
              "(1803, 7)"
            ]
          },
          "metadata": {},
          "execution_count": 140
        }
      ]
    },
    {
      "cell_type": "code",
      "source": [
        "df.dtypes"
      ],
      "metadata": {
        "colab": {
          "base_uri": "https://localhost:8080/"
        },
        "id": "5UbM7e-sfpOH",
        "outputId": "faf8e1ef-10bf-4647-85cc-f78728991c80"
      },
      "execution_count": null,
      "outputs": [
        {
          "output_type": "execute_result",
          "data": {
            "text/plain": [
              "Year                         int64\n",
              "Leading Cause               object\n",
              "Sex                         object\n",
              "Race Ethnicity              object\n",
              "Deaths                     float64\n",
              "Death Rate                 float64\n",
              "Age Adjusted Death Rate    float64\n",
              "dtype: object"
            ]
          },
          "metadata": {},
          "execution_count": 143
        }
      ]
    },
    {
      "cell_type": "markdown",
      "source": [
        "#3- cleaning and tiding"
      ],
      "metadata": {
        "id": "Yo4WH7q9IkFG"
      }
    },
    {
      "cell_type": "code",
      "source": [
        "numeric_columns = ['Deaths', 'Death Rate','Age Adjusted Death Rate']\n",
        "df[numeric_columns] = df[numeric_columns].apply(pd.to_numeric, errors='coerce')"
      ],
      "metadata": {
        "id": "QxBS2I9-gR-g"
      },
      "execution_count": 4,
      "outputs": []
    },
    {
      "cell_type": "code",
      "source": [
        "df.isnull().sum()"
      ],
      "metadata": {
        "colab": {
          "base_uri": "https://localhost:8080/"
        },
        "id": "mnHgz7AqO1Yu",
        "outputId": "bc5a2b8e-c02e-467f-ffc9-3901b75c7c42"
      },
      "execution_count": 5,
      "outputs": [
        {
          "output_type": "execute_result",
          "data": {
            "text/plain": [
              "Year                         0\n",
              "Leading Cause                0\n",
              "Sex                          0\n",
              "Race Ethnicity               0\n",
              "Deaths                     138\n",
              "Death Rate                 607\n",
              "Age Adjusted Death Rate    607\n",
              "dtype: int64"
            ]
          },
          "metadata": {},
          "execution_count": 5
        }
      ]
    },
    {
      "cell_type": "code",
      "source": [
        "df_clean = df.dropna(subset=['Deaths'])"
      ],
      "metadata": {
        "id": "GXhjIC56g-ej"
      },
      "execution_count": 6,
      "outputs": []
    },
    {
      "cell_type": "markdown",
      "source": [
        "#* applying linear regression model to predict the missing death rate data through the deaths"
      ],
      "metadata": {
        "id": "IaVw0QrLLslB"
      }
    },
    {
      "cell_type": "code",
      "source": [
        "known_data = df_clean[df_clean['Death Rate'].notna()]\n",
        "missing_data = df_clean[df_clean['Death Rate'].isna()]\n",
        "\n",
        "# Features for prediction\n",
        "features = ['Deaths']\n",
        "\n",
        "# Fit a linear regression model\n",
        "model = LinearRegression()\n",
        "model.fit(known_data[features], known_data['Death Rate'])\n",
        "\n",
        "# Predict missing values\n",
        "predicted_death_rate = model.predict(missing_data[features])\n",
        "\n",
        "# Update missing values in the DataFrame\n",
        "df_clean.loc[df_clean['Death Rate'].isna(), 'Death Rate'] = predicted_death_rate"
      ],
      "metadata": {
        "id": "XNGqQV2wpxst"
      },
      "execution_count": 7,
      "outputs": []
    },
    {
      "cell_type": "code",
      "source": [
        "df_clean['Sex'].unique()"
      ],
      "metadata": {
        "colab": {
          "base_uri": "https://localhost:8080/"
        },
        "id": "vbcJ1DSeJBuD",
        "outputId": "ef0017f5-602f-4999-9f3a-aa5066675ef6"
      },
      "execution_count": 8,
      "outputs": [
        {
          "output_type": "execute_result",
          "data": {
            "text/plain": [
              "array(['M', 'F', 'Male', 'Female'], dtype=object)"
            ]
          },
          "metadata": {},
          "execution_count": 8
        }
      ]
    },
    {
      "cell_type": "code",
      "source": [
        "df_clean['Race Ethnicity'].unique()"
      ],
      "metadata": {
        "colab": {
          "base_uri": "https://localhost:8080/"
        },
        "id": "ZsU-0CqZScji",
        "outputId": "95d49423-f279-442e-dae9-fa202dc602b4"
      },
      "execution_count": 27,
      "outputs": [
        {
          "output_type": "execute_result",
          "data": {
            "text/plain": [
              "array(['White Non-Hispanic', 'Hispanic', 'Not Stated/Unknown',\n",
              "       'Asian and Pacific Islander', 'Black Non-Hispanic',\n",
              "       'Other Race/ Ethnicity', 'Non-Hispanic Black',\n",
              "       'Non-Hispanic White'], dtype=object)"
            ]
          },
          "metadata": {},
          "execution_count": 27
        }
      ]
    },
    {
      "cell_type": "code",
      "source": [
        "df_clean_copy = df_clean.copy()\n",
        "df_clean_copy.loc[:, 'Sex'] = df_clean_copy['Sex'].replace(('M', 'F'), ('Male', 'Female'))"
      ],
      "metadata": {
        "id": "8k_DpUnmOCBT"
      },
      "execution_count": 9,
      "outputs": []
    },
    {
      "cell_type": "code",
      "source": [
        "df_clean_copy_2 = df_clean_copy.copy()\n",
        "df_clean_copy_2.loc[:, 'Race Ethnicity'] = df_clean_copy_2['Race Ethnicity'].replace(('White Non-Hispanic', 'Black Non-Hispanic'), ('Non-Hispanic White', 'Non-Hispanic Black'))"
      ],
      "metadata": {
        "id": "N2eVHj_TS1Zi"
      },
      "execution_count": 28,
      "outputs": []
    },
    {
      "cell_type": "code",
      "source": [
        "df_clean_copy_2['Sex'].unique()"
      ],
      "metadata": {
        "colab": {
          "base_uri": "https://localhost:8080/"
        },
        "id": "PSKGlsUUZ7-s",
        "outputId": "1c80eaca-0cb6-4a54-e0bf-ba0391f05738"
      },
      "execution_count": 30,
      "outputs": [
        {
          "output_type": "execute_result",
          "data": {
            "text/plain": [
              "array(['Male', 'Female'], dtype=object)"
            ]
          },
          "metadata": {},
          "execution_count": 30
        }
      ]
    },
    {
      "cell_type": "code",
      "source": [
        "df_clean_copy_2['Race Ethnicity'].unique()"
      ],
      "metadata": {
        "colab": {
          "base_uri": "https://localhost:8080/"
        },
        "id": "Vkqb-WtWUaGU",
        "outputId": "b4777c1d-83d7-43ab-d4f7-861a8926d428"
      },
      "execution_count": 29,
      "outputs": [
        {
          "output_type": "execute_result",
          "data": {
            "text/plain": [
              "array(['Non-Hispanic White', 'Hispanic', 'Not Stated/Unknown',\n",
              "       'Asian and Pacific Islander', 'Non-Hispanic Black',\n",
              "       'Other Race/ Ethnicity'], dtype=object)"
            ]
          },
          "metadata": {},
          "execution_count": 29
        }
      ]
    },
    {
      "cell_type": "code",
      "source": [
        "df_clean_analysis = df_clean_copy_2[['Year','Leading Cause','Sex','Race Ethnicity','Deaths','Death Rate']]"
      ],
      "metadata": {
        "id": "L4teCFBec5SX"
      },
      "execution_count": 31,
      "outputs": []
    },
    {
      "cell_type": "markdown",
      "source": [
        "#4- descriptive analysis"
      ],
      "metadata": {
        "id": "701ChKyJzwD9"
      }
    },
    {
      "cell_type": "code",
      "source": [
        "df_clean_analysis.groupby('Year')['Death Rate'].sum().sort_values(ascending=False)"
      ],
      "metadata": {
        "colab": {
          "base_uri": "https://localhost:8080/"
        },
        "id": "_GmQoWAeLMZ9",
        "outputId": "beb12442-418d-4506-de64-faa7310f31ca"
      },
      "execution_count": 32,
      "outputs": [
        {
          "output_type": "execute_result",
          "data": {
            "text/plain": [
              "Year\n",
              "2019    6813.971440\n",
              "2018    6327.013349\n",
              "2016    5474.948448\n",
              "2015    5375.674697\n",
              "2017    5373.437142\n",
              "2013    5195.330924\n",
              "2008    5173.426813\n",
              "2014    5170.437699\n",
              "2007    5146.894898\n",
              "2012    5079.080379\n",
              "2011    5068.764953\n",
              "2010    5018.088083\n",
              "2009    5007.190282\n",
              "Name: Death Rate, dtype: float64"
            ]
          },
          "metadata": {},
          "execution_count": 32
        }
      ]
    },
    {
      "cell_type": "code",
      "source": [
        "df_2019 = df_clean_analysis.loc[df_clean['Year'] == 2019]"
      ],
      "metadata": {
        "id": "0zG98BhOrb5Q"
      },
      "execution_count": 33,
      "outputs": []
    },
    {
      "cell_type": "code",
      "source": [
        "df_2019.groupby('Leading Cause')['Deaths'].sum().sort_values(ascending=False)"
      ],
      "metadata": {
        "colab": {
          "base_uri": "https://localhost:8080/"
        },
        "id": "tYfyg1kNuRp0",
        "outputId": "618c5b15-b60d-4d02-d7e4-0bb2a20233f5"
      },
      "execution_count": 34,
      "outputs": [
        {
          "output_type": "execute_result",
          "data": {
            "text/plain": [
              "Leading Cause\n",
              "Diseases of Heart (I00-I09, I11, I13, I20-I51)                                                                                       17821.0\n",
              "Malignant Neoplasms (Cancer: C00-C97)                                                                                                12445.0\n",
              "All Other Causes                                                                                                                     11647.0\n",
              "Diabetes Mellitus (E10-E14)                                                                                                           1894.0\n",
              "Cerebrovascular Disease (Stroke: I60-I69)                                                                                             1887.0\n",
              "Chronic Lower Respiratory Diseases (J40-J47)                                                                                          1814.0\n",
              "Influenza (Flu) and Pneumonia (J09-J18)                                                                                               1623.0\n",
              "Mental and Behavioral Disorders due to Accidental Poisoning and Other Psychoactive Substance Use (F11-F16, F18-F19, X40-X42, X44)     1520.0\n",
              "Essential Hypertension and Renal Diseases (I10, I12)                                                                                  1310.0\n",
              "Accidents Except Drug Poisoning (V01-X39, X43, X45-X59, Y85-Y86)                                                                       986.0\n",
              "Alzheimer's Disease (G30)                                                                                                              838.0\n",
              "Intentional Self-Harm (Suicide: U03, X60-X84, Y87.0)                                                                                   285.0\n",
              "Chronic Liver Disease and Cirrhosis (K70, K73-K74)                                                                                     189.0\n",
              "Assault (Homicide: U01-U02, Y87.1, X85-Y09)                                                                                            158.0\n",
              "Nephritis, Nephrotic Syndrome and Nephrisis (N00-N07, N17-N19, N25-N27)                                                                 98.0\n",
              "Mental and Behavioral Disorders due to Use of Alcohol (F10)                                                                             20.0\n",
              "Certain Conditions originating in the Perinatal Period (P00-P96)                                                                         8.0\n",
              "Congenital Malformations, Deformations, and Chromosomal Abnormalities (Q00-Q99)                                                          4.0\n",
              "Cholelithiasis and Disorders of Gallbladder (K80-K82)                                                                                    2.0\n",
              "Aortic Aneurysm and Dissection (I71)                                                                                                     2.0\n",
              "Septicemia (A40-A41)                                                                                                                     2.0\n",
              "Human Immunodeficiency Virus Disease (HIV: B20-B24)                                                                                      1.0\n",
              "Complications of Medical and Surgical Care (Y40-Y84, Y88)                                                                                1.0\n",
              "Anemias (D50-D64)                                                                                                                        1.0\n",
              "Parkinson's Disease (G20)                                                                                                                1.0\n",
              "Peptic Ulcer (K25-K28)                                                                                                                   1.0\n",
              "Viral Hepatitis (B15-B19)                                                                                                                1.0\n",
              "Name: Deaths, dtype: float64"
            ]
          },
          "metadata": {},
          "execution_count": 34
        }
      ]
    },
    {
      "cell_type": "code",
      "source": [
        "df_heart = df_clean_analysis.loc[df_clean['Leading Cause'] =='Diseases of Heart (I00-I09, I11, I13, I20-I51)']"
      ],
      "metadata": {
        "id": "o3R1sGVG1P0D"
      },
      "execution_count": 35,
      "outputs": []
    },
    {
      "cell_type": "code",
      "source": [
        "df_grouped_heart_sex = df_heart.groupby('Sex')['Death Rate'].sum()"
      ],
      "metadata": {
        "id": "_MOdHQyo3jon"
      },
      "execution_count": 36,
      "outputs": []
    },
    {
      "cell_type": "code",
      "source": [
        "df_grouped_heart_sex.plot(kind='bar',color = ('red','blue') ,ylim=(10000,11500),edgecolor='black')\n",
        "plt.xlabel('Sex')\n",
        "plt.ylabel('Death rate')\n",
        "plt.title('Death rate Due to Heart Diseases by Sex')\n"
      ],
      "metadata": {
        "colab": {
          "base_uri": "https://localhost:8080/",
          "height": 525
        },
        "id": "0FX-GjgirBNZ",
        "outputId": "acbbf1df-8022-4649-accd-d06aaed113dd"
      },
      "execution_count": 37,
      "outputs": [
        {
          "output_type": "execute_result",
          "data": {
            "text/plain": [
              "Text(0.5, 1.0, 'Death rate Due to Heart Diseases by Sex')"
            ]
          },
          "metadata": {},
          "execution_count": 37
        },
        {
          "output_type": "display_data",
          "data": {
            "text/plain": [
              "<Figure size 640x480 with 1 Axes>"
            ],
            "image/png": "[encoded data removed]"
          },
          "metadata": {}
        }
      ]
    },
    {
      "cell_type": "code",
      "source": [
        "df_grouped_heart_year = df_heart.groupby('Year')['Death Rate'].sum()"
      ],
      "metadata": {
        "id": "Nr8AcVTJ8Rge"
      },
      "execution_count": 38,
      "outputs": []
    },
    {
      "cell_type": "code",
      "source": [
        "df_grouped_heart_year.plot(kind='bar',color=('yellow','green'),edgecolor='black')\n",
        "plt.xlabel('Year')\n",
        "plt.ylabel('Death rate')\n",
        "plt.title('Death rate Due to Heart Diseases by year')"
      ],
      "metadata": {
        "colab": {
          "base_uri": "https://localhost:8080/",
          "height": 510
        },
        "id": "-b0r0ekT40A3",
        "outputId": "f920e967-2cea-4d2a-8c1a-a509358dcda0"
      },
      "execution_count": 39,
      "outputs": [
        {
          "output_type": "execute_result",
          "data": {
            "text/plain": [
              "Text(0.5, 1.0, 'Death rate Due to Heart Diseases by year')"
            ]
          },
          "metadata": {},
          "execution_count": 39
        },
        {
          "output_type": "display_data",
          "data": {
            "text/plain": [
              "<Figure size 640x480 with 1 Axes>"
            ],
            "image/png": "[encoded data removed]"
          },
          "metadata": {}
        }
      ]
    },
    {
      "cell_type": "code",
      "source": [
        "df_grouped_heart_race = df_heart.groupby('Race Ethnicity')['Death Rate'].sum().sort_values(ascending=False)"
      ],
      "metadata": {
        "id": "yLQNXBAeCfze"
      },
      "execution_count": 40,
      "outputs": []
    },
    {
      "cell_type": "code",
      "source": [
        "df_grouped_heart_race.plot(kind='bar',color=('orange','purple'),edgecolor='black')\n",
        "plt.xlabel('Race')\n",
        "plt.ylabel('Death rate')\n",
        "plt.title('Death rate Due to Heart Diseases by Race')"
      ],
      "metadata": {
        "colab": {
          "base_uri": "https://localhost:8080/",
          "height": 652
        },
        "id": "wFR3j7tr8G_E",
        "outputId": "c756948e-d16a-4a62-c487-444062e9011f"
      },
      "execution_count": 41,
      "outputs": [
        {
          "output_type": "execute_result",
          "data": {
            "text/plain": [
              "Text(0.5, 1.0, 'Death rate Due to Heart Diseases by Race')"
            ]
          },
          "metadata": {},
          "execution_count": 41
        },
        {
          "output_type": "display_data",
          "data": {
            "text/plain": [
              "<Figure size 640x480 with 1 Axes>"
            ],
            "image/png": "[encoded data removed]"
          },
          "metadata": {}
        }
      ]
    }
  ]
}